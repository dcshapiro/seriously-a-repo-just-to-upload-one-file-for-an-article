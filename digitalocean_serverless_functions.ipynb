{
  "nbformat": 4,
  "nbformat_minor": 0,
  "metadata": {
    "colab": {
      "name": "digitalocean_serverless_functions.ipynb",
      "provenance": [],
      "collapsed_sections": [],
      "authorship_tag": "ABX9TyPtZzs8+MUHbm/PzLr44iG/",
      "include_colab_link": true
    },
    "kernelspec": {
      "name": "python3",
      "display_name": "Python 3"
    },
    "language_info": {
      "name": "python"
    },
    "accelerator": "GPU"
  },
  "cells": [
    {
      "cell_type": "markdown",
      "metadata": {
        "id": "view-in-github",
        "colab_type": "text"
      },
      "source": [
        "<a href=\"https://colab.research.google.com/github/dcshapiro/seriously-a-repo-just-to-upload-one-file-for-an-article/blob/main/digitalocean_serverless_functions.ipynb\" target=\"_parent\"><img src=\"https://colab.research.google.com/assets/colab-badge.svg\" alt=\"Open In Colab\"/></a>"
      ]
    },
    {
      "cell_type": "markdown",
      "source": [
        "# Outline\n",
        "Author: Daniel Shapiro, PhD. CTO @ [http://lemay.ai](Lemay.ai) \n",
        "1. Install doctl\n",
        "2. Authenticate to digitalocean using doctl\n",
        "3. Install serverless in doctl, so we can make functions\n",
        "4. Connect to your digitalocean sandbox\n",
        "5. Create a digitalocean python function from a template\n",
        "6. Create a requirements file\n",
        "7. Fit a regression model on some data\n",
        "8. Create a build script\n",
        "9. Create inference pipeline\n",
        "10. Build and test your digitalocean function"
      ],
      "metadata": {
        "id": "nG_1brDFL0jw"
      }
    },
    {
      "cell_type": "markdown",
      "source": [
        "# Install doctl\n"
      ],
      "metadata": {
        "id": "xheAA5psLmag"
      }
    },
    {
      "cell_type": "code",
      "execution_count": 1,
      "metadata": {
        "colab": {
          "base_uri": "https://localhost:8080/"
        },
        "id": "Ejk6X8p9IIsj",
        "outputId": "e3d40e4f-e9cf-4f91-ec55-b061098fe7f3"
      },
      "outputs": [
        {
          "output_type": "stream",
          "name": "stdout",
          "text": [
            "doctl\n"
          ]
        }
      ],
      "source": [
        "!curl -sL https://github.com/digitalocean/doctl/releases/download/v1.76.0/doctl-1.76.0-linux-amd64.tar.gz | tar -xzv"
      ]
    },
    {
      "cell_type": "code",
      "source": [
        "!sudo mv doctl /usr/local/bin"
      ],
      "metadata": {
        "id": "_EutiV-6I5oa"
      },
      "execution_count": 2,
      "outputs": []
    },
    {
      "cell_type": "markdown",
      "source": [
        "# Authenticate to digitalocean using doctl"
      ],
      "metadata": {
        "id": "Q_p4vUvlLrao"
      }
    },
    {
      "cell_type": "code",
      "source": [
        "!doctl auth init –-context lemay_ai "
      ],
      "metadata": {
        "colab": {
          "base_uri": "https://localhost:8080/"
        },
        "id": "eRJUM59uIT9B",
        "outputId": "a671770a-374e-4aa5-a1b3-f2cb1cafe64d"
      },
      "execution_count": 3,
      "outputs": [
        {
          "output_type": "stream",
          "name": "stdout",
          "text": [
            "Please authenticate doctl for use with your DigitalOcean account. You can generate a token in the control panel at https://cloud.digitalocean.com/account/api/tokens\n",
            "\n",
            "Enter your access token: \n",
            "Validating token... OK\n",
            "\n"
          ]
        }
      ]
    },
    {
      "cell_type": "markdown",
      "source": [
        "# Install serverless in doctl, so we can make functions"
      ],
      "metadata": {
        "id": "yNvjtHBXL-HH"
      }
    },
    {
      "cell_type": "code",
      "source": [
        "!doctl serverless install"
      ],
      "metadata": {
        "colab": {
          "base_uri": "https://localhost:8080/"
        },
        "id": "bD14Y4RlIfBl",
        "outputId": "20a72e0c-99e3-4e44-f082-4f9c928fdceb"
      },
      "execution_count": 4,
      "outputs": [
        {
          "output_type": "stream",
          "name": "stdout",
          "text": [
            "Downloading...Unpacking...Installing...Cleaning up...\n",
            "Done\n"
          ]
        }
      ]
    },
    {
      "cell_type": "markdown",
      "source": [
        "Create a directory to work in"
      ],
      "metadata": {
        "id": "OUj9e8xVMKkW"
      }
    },
    {
      "cell_type": "code",
      "source": [
        "!mkdir -p functions"
      ],
      "metadata": {
        "id": "cVRUO8tbJO3l"
      },
      "execution_count": 5,
      "outputs": []
    },
    {
      "cell_type": "code",
      "source": [
        "%cd functions"
      ],
      "metadata": {
        "colab": {
          "base_uri": "https://localhost:8080/"
        },
        "id": "BhoGd1uaJW2I",
        "outputId": "c995b941-74c5-4c28-ecb1-0b909692868a"
      },
      "execution_count": 6,
      "outputs": [
        {
          "output_type": "stream",
          "name": "stdout",
          "text": [
            "/content/functions\n"
          ]
        }
      ]
    },
    {
      "cell_type": "code",
      "source": [
        "!pwd"
      ],
      "metadata": {
        "colab": {
          "base_uri": "https://localhost:8080/"
        },
        "id": "SwNOnIpoJdDQ",
        "outputId": "361115eb-29c0-4e3d-8914-2105e957451e"
      },
      "execution_count": 7,
      "outputs": [
        {
          "output_type": "stream",
          "name": "stdout",
          "text": [
            "/content/functions\n"
          ]
        }
      ]
    },
    {
      "cell_type": "markdown",
      "source": [
        "# Connect to your digitalocean sandbox"
      ],
      "metadata": {
        "id": "GzlWXPaxMQ0V"
      }
    },
    {
      "cell_type": "code",
      "source": [
        "!doctl sandbox connect"
      ],
      "metadata": {
        "colab": {
          "base_uri": "https://localhost:8080/"
        },
        "id": "XnI3p88OJeeb",
        "outputId": "4c1e1691-ddfd-44e0-b204-f874244bc706"
      },
      "execution_count": 8,
      "outputs": [
        {
          "output_type": "stream",
          "name": "stdout",
          "text": [
            "Connected to function namespace 'fn-36f74ea7-e6c1-44dc-b004-b142654d8b0b' on API host 'https://faas-tor1-70ca848e.doserverless.co'\n",
            "\n"
          ]
        }
      ]
    },
    {
      "cell_type": "markdown",
      "source": [
        "# Create a digitalocean python function from a template"
      ],
      "metadata": {
        "id": "zlMaunJpMpaw"
      }
    },
    {
      "cell_type": "code",
      "source": [
        "!doctl sandbox init . -l python"
      ],
      "metadata": {
        "colab": {
          "base_uri": "https://localhost:8080/"
        },
        "id": "LQHXCu1ZJlR3",
        "outputId": "b86e5ddd-63c8-487f-a4c2-1d3821ae8f6d"
      },
      "execution_count": 9,
      "outputs": [
        {
          "output_type": "stream",
          "name": "stdout",
          "text": [
            "A local sandbox area '.' was created for you.\n",
            "You may deploy it by running the command shown on the next line:\n",
            "  doctl sandbox deploy .\n",
            "\n"
          ]
        }
      ]
    },
    {
      "cell_type": "markdown",
      "source": [
        "Deploy your new blank project"
      ],
      "metadata": {
        "id": "yNRyFuxhLggR"
      }
    },
    {
      "cell_type": "code",
      "source": [
        "!doctl sandbox deploy . --remote-build"
      ],
      "metadata": {
        "colab": {
          "base_uri": "https://localhost:8080/"
        },
        "id": "jkjrlZELJpT0",
        "outputId": "a748496d-9588-4956-e2ce-a79b2d5063f4"
      },
      "execution_count": 10,
      "outputs": [
        {
          "output_type": "stream",
          "name": "stdout",
          "text": [
            "Deploying '/content/functions'\n",
            "  to namespace 'fn-36f74ea7-e6c1-44dc-b004-b142654d8b0b'\n",
            "  on host 'https://faas-tor1-70ca848e.doserverless.co'\n",
            "Deployment status recorded in '.nimbella'\n",
            "\n",
            "Deployed functions ('doctl sbx fn get <funcName> --url' for URL):\n",
            "  - sample/hello\n"
          ]
        }
      ]
    },
    {
      "cell_type": "markdown",
      "source": [
        "Generate the URL for this project so that you can see it in the browser. This is also the URL you can post parameters to, as we will see later on.\n"
      ],
      "metadata": {
        "id": "MYkcxqRSM1Bu"
      }
    },
    {
      "cell_type": "code",
      "source": [
        "!doctl sbx fn get sample/hello --url"
      ],
      "metadata": {
        "colab": {
          "base_uri": "https://localhost:8080/"
        },
        "id": "z1NuVvcbJyDE",
        "outputId": "ecd98d6d-f3e0-4d9e-91b6-254a44e592de"
      },
      "execution_count": 11,
      "outputs": [
        {
          "output_type": "stream",
          "name": "stdout",
          "text": [
            "https://faas-tor1-70ca848e.doserverless.co/api/v1/web/fn-36f74ea7-e6c1-44dc-b004-b142654d8b0b/sample/hello\n"
          ]
        }
      ]
    },
    {
      "cell_type": "markdown",
      "source": [
        "Invoke this blank project from the command line, so that we don't need to tab over to the browser."
      ],
      "metadata": {
        "id": "mgHwwDAkNJyj"
      }
    },
    {
      "cell_type": "code",
      "source": [
        "!doctl sls fn invoke sample/hello"
      ],
      "metadata": {
        "colab": {
          "base_uri": "https://localhost:8080/"
        },
        "id": "H1jzW9ty2qka",
        "outputId": "eddcd53a-6b20-43f1-a4ca-baa280048be2"
      },
      "execution_count": 12,
      "outputs": [
        {
          "output_type": "stream",
          "name": "stdout",
          "text": [
            "{\n",
            "  \"body\": \"Hello stranger!\"\n",
            "}\n"
          ]
        }
      ]
    },
    {
      "cell_type": "markdown",
      "source": [
        "# Create a requirements file\n",
        "That was boring. Let's make something real.\n",
        "\n",
        "If you have python dependencies, this is where they would go"
      ],
      "metadata": {
        "id": "FwwkQBqlKGYg"
      }
    },
    {
      "cell_type": "code",
      "source": [
        "%%file packages/sample/hello/requirements.txt\n",
        "### Note: none of the following libraries is installable due to memory limits\n",
        "# scikit-learn\n",
        "# xgboost\n",
        "# tensorflow\n",
        "# onnx\n",
        "\n",
        "### Note: the following do work\n",
        "# numpy\n",
        "# joblib"
      ],
      "metadata": {
        "colab": {
          "base_uri": "https://localhost:8080/"
        },
        "id": "MyXxMscTJ9P_",
        "outputId": "e5a89be8-e859-4d8e-c9a7-197ae9e9d6a6"
      },
      "execution_count": 13,
      "outputs": [
        {
          "output_type": "stream",
          "name": "stdout",
          "text": [
            "Writing packages/sample/hello/requirements.txt\n"
          ]
        }
      ]
    },
    {
      "cell_type": "code",
      "source": [
        "!cat packages/sample/hello/requirements.txt"
      ],
      "metadata": {
        "colab": {
          "base_uri": "https://localhost:8080/"
        },
        "id": "RaGmWo-HNc2z",
        "outputId": "58298b3a-4f65-43b0-a428-e4987a716211"
      },
      "execution_count": 14,
      "outputs": [
        {
          "output_type": "stream",
          "name": "stdout",
          "text": [
            "### Note: none of the following libraries is installable due to memory limits\n",
            "# scikit-learn\n",
            "# xgboost\n",
            "# tensorflow\n",
            "# onnx\n",
            "\n",
            "### Note: the following do work\n",
            "# numpy\n",
            "# joblib"
          ]
        }
      ]
    },
    {
      "cell_type": "markdown",
      "source": [
        "# Fit a regression model on some data\n",
        "\n",
        "Be mindfull that digitalocean functions have low storage and memory capacity"
      ],
      "metadata": {
        "id": "4YJj3INPNnZl"
      }
    },
    {
      "cell_type": "markdown",
      "source": [
        "Let's use a regression model like the one described here: https://towardsdatascience.com/ai-feynman-2-0-learning-regression-equations-from-data-3232151bd929\n",
        "\n",
        "Specifically, the code to generate two regression functions on some sample data is found here: https://github.com/dcshapiro/AI-Feynman/blob/master/AI_Feynman_2_0.ipynb"
      ],
      "metadata": {
        "id": "laYsID8OCuOv"
      }
    },
    {
      "cell_type": "code",
      "source": [
        "from math import tan,log,exp,sqrt\n",
        "from random import random\n",
        "\n",
        "# One equation that AI Feynman discovered when trying to fit an equation to some data\n",
        "def predict_version_one(x0,x1,x2,x3):\n",
        "  return log(sqrt(exp(-x1 + x3))) + 3.0\n",
        "\n",
        "# A second equation that AI Feynman discovered when trying to fit an equation to the same data\n",
        "def predict_version_two(x0,x1,x2,x3):\n",
        "  return -0.25*x0 - 0.25*x1 + 0.25*x2 + 0.25*x3 + 3.0\n",
        "\n",
        "# A generator that produces data from our universe of observations. These numbers are not random. They are random *SAMPLES*\n",
        "# This is the data that the regression model was designed to make predictions about\n",
        "def datagen():\n",
        "  while True:\n",
        "    x0=random()\n",
        "    x1=x0\n",
        "    x2=random()\n",
        "    x3=x2\n",
        "    yield x0,x1,x2,x3\n",
        "\n",
        "# Instantiate our data generator\n",
        "g = datagen()\n",
        "\n",
        "# Show that the two predict functions are predicting almost the same thing\n",
        "for _ in range(5):\n",
        "  x0,x1,x2,x3 = next(g)\n",
        "  one = predict_version_one(x0,x1,x2,x3)\n",
        "  two = predict_version_two(x0,x1,x2,x3)\n",
        "  print(one-two)"
      ],
      "metadata": {
        "colab": {
          "base_uri": "https://localhost:8080/"
        },
        "id": "IWRPxR7HCSVZ",
        "outputId": "7789a194-3e07-4719-d95c-21b1ff7d7952"
      },
      "execution_count": 15,
      "outputs": [
        {
          "output_type": "stream",
          "name": "stdout",
          "text": [
            "0.0\n",
            "0.0\n",
            "0.0\n",
            "-4.440892098500626e-16\n",
            "0.0\n"
          ]
        }
      ]
    },
    {
      "cell_type": "markdown",
      "source": [
        "Try out one of the regression models as an inference pipeline using inputs from JSON, and returning JSON"
      ],
      "metadata": {
        "id": "e1HE22DUOi4s"
      }
    },
    {
      "cell_type": "code",
      "source": [
        "from math import tan,log,exp,sqrt\n",
        "from random import random\n",
        "\n",
        "# helper function to cast values from JSON strings to python floats\n",
        "def argToFloat(arg,idx):\n",
        "  return float(arg.get(idx, \"0.0\"))\n",
        "\n",
        "# One equation that AI Feynman discovered when trying to fit an equation to some data\n",
        "def predict_version_one(x0,x1,x2,x3):\n",
        "  return log(sqrt(exp(-x1 + x3))) + 3.0\n",
        "\n",
        "def main(args):\n",
        "  x0,x1,x2,x3 = [argToFloat(args,\"0\"),\n",
        "                  argToFloat(args,\"1\"),\n",
        "                  argToFloat(args,\"2\"),\n",
        "                  argToFloat(args,\"3\")]\n",
        "  \n",
        "  if x0!=x1 or x2!=x3 or min([x0,x1,x2,x3])<0 or max([x0,x1,x2,x3])>1:\n",
        "    return {\"body\": \"Error: Unexpected Observation\"}\n",
        "  \n",
        "  response = predict_version_one(x0,x1,x2,x3)\n",
        "  return {\"body\": str(response)}\n",
        "\n",
        "######### Inference test\n",
        "x0,x1,x2,x3 = next(g)\n",
        "\n",
        "main({\"0\":str(x0),\n",
        "      \"1\":str(x1),\n",
        "      \"2\":str(x2),\n",
        "      \"3\":str(x3)})"
      ],
      "metadata": {
        "colab": {
          "base_uri": "https://localhost:8080/"
        },
        "id": "-4EWDKblLF3X",
        "outputId": "96c820ea-3f91-428e-9399-a48d2ff38bbd"
      },
      "execution_count": 16,
      "outputs": [
        {
          "output_type": "execute_result",
          "data": {
            "text/plain": [
              "{'body': '3.1881090003611483'}"
            ]
          },
          "metadata": {},
          "execution_count": 16
        }
      ]
    },
    {
      "cell_type": "markdown",
      "source": [
        "# Create a build script"
      ],
      "metadata": {
        "id": "5vtdjw4qOUlt"
      }
    },
    {
      "cell_type": "code",
      "source": [
        "%%file packages/sample/hello/build.sh\n",
        "#!/bin/bash\n",
        "set -e\n",
        "virtualenv virtualenv\n",
        "source virtualenv/bin/activate\n",
        "pip install -r requirements.txt\n",
        "deactivate"
      ],
      "metadata": {
        "colab": {
          "base_uri": "https://localhost:8080/"
        },
        "id": "2Akd9wJzKXMA",
        "outputId": "47d6b638-99d4-48e7-deae-172b6345f387"
      },
      "execution_count": 17,
      "outputs": [
        {
          "output_type": "stream",
          "name": "stdout",
          "text": [
            "Writing packages/sample/hello/build.sh\n"
          ]
        }
      ]
    },
    {
      "cell_type": "code",
      "source": [
        "!chmod +x packages/sample/hello/build.sh"
      ],
      "metadata": {
        "id": "5UZeW22rKv4o"
      },
      "execution_count": 18,
      "outputs": []
    },
    {
      "cell_type": "code",
      "source": [
        "!cat packages/sample/hello/build.sh"
      ],
      "metadata": {
        "colab": {
          "base_uri": "https://localhost:8080/"
        },
        "id": "LWg9twyeKr73",
        "outputId": "d0b5cc75-e2d6-4e3f-e244-c5787ee34841"
      },
      "execution_count": 19,
      "outputs": [
        {
          "output_type": "stream",
          "name": "stdout",
          "text": [
            "#!/bin/bash\n",
            "set -e\n",
            "virtualenv virtualenv\n",
            "source virtualenv/bin/activate\n",
            "pip install -r requirements.txt\n",
            "deactivate"
          ]
        }
      ]
    },
    {
      "cell_type": "markdown",
      "source": [
        "# Create inference pipeline"
      ],
      "metadata": {
        "id": "z7o7SdRSLiPU"
      }
    },
    {
      "cell_type": "code",
      "source": [
        "%%file packages/sample/hello/__main__.py\n",
        "from math import tan,log,exp,sqrt\n",
        "from random import random\n",
        "\n",
        "# helper function to cast values from JSON strings to python floats\n",
        "def argToFloat(arg,idx):\n",
        "  return float(arg.get(idx, \"0.0\"))\n",
        "\n",
        "# One equation that AI Feynman discovered when trying to fit an equation to some data\n",
        "def predict_version_one(x0,x1,x2,x3):\n",
        "  return log(sqrt(exp(-x1 + x3))) + 3.0\n",
        "\n",
        "def main(args):\n",
        "  x0,x1,x2,x3 = [argToFloat(args,\"0\"),\n",
        "                  argToFloat(args,\"1\"),\n",
        "                  argToFloat(args,\"2\"),\n",
        "                  argToFloat(args,\"3\")]\n",
        "  \n",
        "  if x0!=x1 or x2!=x3 or min([x0,x1,x2,x3])<0 or max([x0,x1,x2,x3])>1:\n",
        "    return {\"body\": \"Error: Unexpected Observation\"}\n",
        "  \n",
        "  response = predict_version_one(x0,x1,x2,x3)\n",
        "  return {\"body\": str(response)}"
      ],
      "metadata": {
        "colab": {
          "base_uri": "https://localhost:8080/"
        },
        "id": "F9Q8rAPJNHXs",
        "outputId": "5c1ab5b7-c4b3-445d-cadc-3d708cb28e8b"
      },
      "execution_count": 20,
      "outputs": [
        {
          "output_type": "stream",
          "name": "stdout",
          "text": [
            "Writing packages/sample/hello/__main__.py\n"
          ]
        }
      ]
    },
    {
      "cell_type": "code",
      "source": [
        "!cat packages/sample/hello/__main__.py"
      ],
      "metadata": {
        "colab": {
          "base_uri": "https://localhost:8080/"
        },
        "id": "zA93kF0UOtH6",
        "outputId": "f66a6156-dba8-4eac-9105-f08e296996f8"
      },
      "execution_count": 21,
      "outputs": [
        {
          "output_type": "stream",
          "name": "stdout",
          "text": [
            "from math import tan,log,exp,sqrt\n",
            "from random import random\n",
            "\n",
            "# helper function to cast values from JSON strings to python floats\n",
            "def argToFloat(arg,idx):\n",
            "  return float(arg.get(idx, \"0.0\"))\n",
            "\n",
            "# One equation that AI Feynman discovered when trying to fit an equation to some data\n",
            "def predict_version_one(x0,x1,x2,x3):\n",
            "  return log(sqrt(exp(-x1 + x3))) + 3.0\n",
            "\n",
            "def main(args):\n",
            "  x0,x1,x2,x3 = [argToFloat(args,\"0\"),\n",
            "                  argToFloat(args,\"1\"),\n",
            "                  argToFloat(args,\"2\"),\n",
            "                  argToFloat(args,\"3\")]\n",
            "  \n",
            "  if x0!=x1 or x2!=x3 or min([x0,x1,x2,x3])<0 or max([x0,x1,x2,x3])>1:\n",
            "    return {\"body\": \"Error: Unexpected Observation\"}\n",
            "  \n",
            "  response = predict_version_one(x0,x1,x2,x3)\n",
            "  return {\"body\": str(response)}"
          ]
        }
      ]
    },
    {
      "cell_type": "markdown",
      "source": [
        "# Build and test your digitalocean function"
      ],
      "metadata": {
        "id": "xI9d71q4PFKE"
      }
    },
    {
      "cell_type": "markdown",
      "source": [
        "Build"
      ],
      "metadata": {
        "id": "tLNdEoNePQxs"
      }
    },
    {
      "cell_type": "code",
      "source": [
        "!doctl sandbox deploy . --remote-build"
      ],
      "metadata": {
        "colab": {
          "base_uri": "https://localhost:8080/"
        },
        "id": "nl4Xyf04Lv8Z",
        "outputId": "19915305-b0e6-42c7-d8ad-9dd9cdc39de2"
      },
      "execution_count": 22,
      "outputs": [
        {
          "output_type": "stream",
          "name": "stdout",
          "text": [
            "Deploying '/content/functions'\n",
            "  to namespace 'fn-36f74ea7-e6c1-44dc-b004-b142654d8b0b'\n",
            "  on host 'https://faas-tor1-70ca848e.doserverless.co'\n",
            "Submitted action 'hello' for remote building and deployment in runtime python:default (id: ac2e1f0ef39e4865ae1f0ef39e9865c8)\n",
            "Processing of 'hello' is still running remotely ...\n",
            "Processing of 'hello' is still running remotely ...\n",
            "\n",
            "Deployed functions ('doctl sbx fn get <funcName> --url' for URL):\n",
            "  - sample/hello\n"
          ]
        }
      ]
    },
    {
      "cell_type": "markdown",
      "source": [
        "Generate the URL for this project so that you can see it in the browser. This is also the URL we will use to post parameters to using the requests library."
      ],
      "metadata": {
        "id": "EOyGhQDRPhFk"
      }
    },
    {
      "cell_type": "code",
      "source": [
        "!pip install icecream"
      ],
      "metadata": {
        "colab": {
          "base_uri": "https://localhost:8080/"
        },
        "id": "v6gIE8djZ7zI",
        "outputId": "57c53869-534f-458a-cd5a-0499c72034c2"
      },
      "execution_count": 26,
      "outputs": [
        {
          "output_type": "stream",
          "name": "stdout",
          "text": [
            "Looking in indexes: https://pypi.org/simple, https://us-python.pkg.dev/colab-wheels/public/simple/\n",
            "Collecting icecream\n",
            "  Downloading icecream-2.1.2-py2.py3-none-any.whl (8.3 kB)\n",
            "Collecting asttokens>=2.0.1\n",
            "  Downloading asttokens-2.0.5-py2.py3-none-any.whl (20 kB)\n",
            "Collecting colorama>=0.3.9\n",
            "  Downloading colorama-0.4.4-py2.py3-none-any.whl (16 kB)\n",
            "Collecting executing>=0.3.1\n",
            "  Downloading executing-0.8.3-py2.py3-none-any.whl (16 kB)\n",
            "Requirement already satisfied: pygments>=2.2.0 in /usr/local/lib/python3.7/dist-packages (from icecream) (2.6.1)\n",
            "Requirement already satisfied: six in /usr/local/lib/python3.7/dist-packages (from asttokens>=2.0.1->icecream) (1.15.0)\n",
            "Installing collected packages: executing, colorama, asttokens, icecream\n",
            "Successfully installed asttokens-2.0.5 colorama-0.4.4 executing-0.8.3 icecream-2.1.2\n"
          ]
        }
      ]
    },
    {
      "cell_type": "code",
      "source": [
        "import requests, json\n",
        "from icecream import ic\n",
        "url = !doctl sbx fn get sample/hello --url\n",
        "print(url[0])\n",
        "\n",
        "x0,x1,x2,x3 = next(g)\n",
        "\n",
        "x = { \"0\":str(x0),\n",
        "      \"1\":str(x1),\n",
        "      \"2\":str(x2),\n",
        "      \"3\":str(x3)}\n",
        "ic(x)\n",
        "y = requests.post(url[0], data = x)\n",
        "ic(y.text)"
      ],
      "metadata": {
        "colab": {
          "base_uri": "https://localhost:8080/",
          "height": 145
        },
        "id": "wirMgEeJPpeL",
        "outputId": "79a4fd18-19fd-4765-ae3a-f72d9e276e67"
      },
      "execution_count": 28,
      "outputs": [
        {
          "output_type": "stream",
          "name": "stderr",
          "text": [
            "ic| x: {'0': '0.9430294816720703',\n",
            "        '1': '0.9430294816720703',\n",
            "        '2': '0.15083726450822088',\n",
            "        '3': '0.15083726450822088'}\n"
          ]
        },
        {
          "output_type": "stream",
          "name": "stdout",
          "text": [
            "https://faas-tor1-70ca848e.doserverless.co/api/v1/web/fn-36f74ea7-e6c1-44dc-b004-b142654d8b0b/sample/hello\n"
          ]
        },
        {
          "output_type": "stream",
          "name": "stderr",
          "text": [
            "ic| y.text: '2.603903891418075'\n"
          ]
        },
        {
          "output_type": "execute_result",
          "data": {
            "text/plain": [
              "'2.603903891418075'"
            ],
            "application/vnd.google.colaboratory.intrinsic+json": {
              "type": "string"
            }
          },
          "metadata": {},
          "execution_count": 28
        }
      ]
    },
    {
      "cell_type": "code",
      "source": [
        "y.text"
      ],
      "metadata": {
        "colab": {
          "base_uri": "https://localhost:8080/",
          "height": 36
        },
        "id": "IMjXtXF0Zt-J",
        "outputId": "907991a7-7da9-420e-9f26-511983c448fb"
      },
      "execution_count": 30,
      "outputs": [
        {
          "output_type": "execute_result",
          "data": {
            "text/plain": [
              "'2.603903891418075'"
            ],
            "application/vnd.google.colaboratory.intrinsic+json": {
              "type": "string"
            }
          },
          "metadata": {},
          "execution_count": 30
        }
      ]
    },
    {
      "cell_type": "code",
      "source": [
        "with open('json_data.json', 'w') as outfile:\n",
        "    json.dump(x, outfile)\n",
        "!cat json_data.json"
      ],
      "metadata": {
        "colab": {
          "base_uri": "https://localhost:8080/"
        },
        "id": "2jOKLUX8djdd",
        "outputId": "f78449c2-97ed-4426-b2d6-5cf5ccbeec1b"
      },
      "execution_count": 58,
      "outputs": [
        {
          "output_type": "stream",
          "name": "stdout",
          "text": [
            "{\"0\": \"0.9430294816720703\", \"1\": \"0.9430294816720703\", \"2\": \"0.15083726450822088\", \"3\": \"0.15083726450822088\"}"
          ]
        }
      ]
    },
    {
      "cell_type": "markdown",
      "source": [
        "We can also test directly from the command line"
      ],
      "metadata": {
        "id": "98HpMCJjSwYQ"
      }
    },
    {
      "cell_type": "code",
      "source": [
        "!doctl sls fn invoke sample/hello -P json_data.json"
      ],
      "metadata": {
        "colab": {
          "base_uri": "https://localhost:8080/"
        },
        "id": "EPF3p2AH4PO6",
        "outputId": "dc6d6e97-aed7-4461-996f-b294c5705c7d"
      },
      "execution_count": 59,
      "outputs": [
        {
          "output_type": "stream",
          "name": "stdout",
          "text": [
            "{\n",
            "  \"body\": \"2.603903891418075\"\n",
            "}\n"
          ]
        }
      ]
    },
    {
      "cell_type": "code",
      "source": [
        "!doctl sandbox activations logs"
      ],
      "metadata": {
        "colab": {
          "base_uri": "https://localhost:8080/"
        },
        "id": "HG_SQQMCaL9_",
        "outputId": "31085828-1e90-42c5-c065-270868d34e4b"
      },
      "execution_count": 61,
      "outputs": [
        {
          "output_type": "stream",
          "name": "stdout",
          "text": [
            "=== af23e79994314edaa3e7999431ceda66 (success) 05/25 13:49:33 hello:0.0.10\n"
          ]
        }
      ]
    },
    {
      "cell_type": "code",
      "source": [
        ""
      ],
      "metadata": {
        "id": "0DnA3j0xaZXP"
      },
      "execution_count": null,
      "outputs": []
    }
  ]
}
